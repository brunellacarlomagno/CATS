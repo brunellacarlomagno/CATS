{
 "cells": [
  {
   "cell_type": "code",
   "execution_count": 1,
   "metadata": {},
   "outputs": [
    {
     "name": "stderr",
     "output_type": "stream",
     "text": [
      "/Users/brunella/.local/lib/python3.6/site-packages/pyfits-3.5-py3.6-macosx-10.7-x86_64.egg/pyfits/__init__.py:22: PyFITSDeprecationWarning: PyFITS is deprecated, please use astropy.io.fits\n",
      "  PyFITSDeprecationWarning)  # noqa\n"
     ]
    }
   ],
   "source": [
    "import proper\n",
    "import numpy as np\n",
    "import matplotlib.pyplot as plt\n",
    "import vip_hci\n",
    "import math\n",
    "from astropy.io import fits\n",
    "from metiscoronagraphsimulator import metiscoronagraphsimulator\n",
    "import os"
   ]
  },
  {
   "cell_type": "code",
   "execution_count": 2,
   "metadata": {},
   "outputs": [
    {
     "name": "stdout",
     "output_type": "stream",
     "text": [
      "LS_misalignment:  [0.0, 0.0, 0.0, 0.0, 0.0, 0.0]\n",
      "LS_misalignment:  [0.0, 0.0, 0.0, 0.0, 0.0, 0.0]\n",
      "LS_misalignment:  [0.0, 0.0, 0.0, 0.0, 0.0, 0.0]\n",
      "LS_misalignment:  [0.0, 0.0, 0.0, 0.0, 0.0, 0.0]\n",
      "LS_misalignment:  [0.0, 0.0, 0.0, 0.0, 0.0, 0.0]\n",
      "LS_misalignment:  [0.0, 0.0, 0.0, 0.0, 0.0, 0.0]\n"
     ]
    }
   ],
   "source": [
    "metiscoronagraphsimulator(1024,3.8, 5., 'VC2', charge=2, LS_parameters=[0.98, 0.03, 1.1], ELT_circ=True, Vortex = True, LS=True, Debug=False, Debug_print=False, Norm_max=True)\n",
    "\n"
   ]
  },
  {
   "cell_type": "code",
   "execution_count": 3,
   "metadata": {},
   "outputs": [
    {
     "name": "stdout",
     "output_type": "stream",
     "text": [
      "LS_misalignment:  [0.0, 0.0, 0.0, 0.0, 0.0, 0.0]\n",
      "LS_misalignment:  [0.0, 0.0, 0.0, 0.0, 0.0, 0.0]\n",
      "LS_misalignment:  [0.0, 0.0, 0.0, 0.0, 0.0, 0.0]\n"
     ]
    }
   ],
   "source": [
    "metiscoronagraphsimulator(1024,3.8, 5., 'RAVC2', charge=2, LS_parameters=[0.98, 0.03, 1.1], NoCoro_psf = fits.getdata('psf_noCoro_nonorm.fits'), Offaxis_psf=fits.getdata('psf_offaxis_nonorm.fits'), ELT_circ=True, Vortex = True, Back=False, RAVC=True, LS=True, Island_effect=True, Debug=True, Debug_print=False, Norm_max=True)\n"
   ]
  },
  {
   "cell_type": "code",
   "execution_count": 4,
   "metadata": {},
   "outputs": [
    {
     "name": "stdout",
     "output_type": "stream",
     "text": [
      "LS_misalignment:  [0.0, 0.0, 0.0, 0.0, 0.0, 0.0]\n",
      "LS_misalignment:  [0.0, 0.0, 0.0, 0.0, 0.0, 0.0]\n",
      "LS_misalignment:  [0.0, 0.0, 0.0, 0.0, 0.0, 0.0]\n"
     ]
    }
   ],
   "source": [
    "metiscoronagraphsimulator(1024,3.8, 5., 'missingsegm7', charge=2, LS_parameters=[0.98, 0.03, 1.1], missing_segments_number=7, NoCoro_psf = fits.getdata('psf_noCoro_nonorm.fits'), Offaxis_psf=fits.getdata('psf_offaxis_nonorm.fits'), ELT_circ=True, Vortex = True, Back=False, RAVC=True, LS=True, Debug=True, Debug_print=False, Norm_max=True)\n"
   ]
  },
  {
   "cell_type": "code",
   "execution_count": 5,
   "metadata": {},
   "outputs": [
    {
     "name": "stdout",
     "output_type": "stream",
     "text": [
      "LS_misalignment:  [0.0, 0.0, 0.0, 0.0, 0.0, 0.0]\n",
      "LS_misalignment:  [0.0, 0.0, 0.0, 0.0, 0.0, 0.0]\n",
      "LS_misalignment:  [0.0, 0.0, 0.0, 0.0, 0.0, 0.0]\n"
     ]
    }
   ],
   "source": [
    "metiscoronagraphsimulator(1024,3.8, 5., 'Tilt1lambdaD', charge=2, LS_parameters=[0.98, 0.03, 1.1], TILT=[1.0, 0.0],NoCoro_psf = fits.getdata('psf_noCoro_nonorm.fits'), Offaxis_psf=fits.getdata('psf_offaxis_nonorm.fits'), ELT_circ=True, Vortex = True, Back=False, RAVC=True, LS=True, Debug=True, Debug_print=False, Norm_max=True)\n"
   ]
  },
  {
   "cell_type": "code",
   "execution_count": 6,
   "metadata": {},
   "outputs": [
    {
     "name": "stdout",
     "output_type": "stream",
     "text": [
      "LS_misalignment:  [0.0, 0.0, 0.0, 0.0, 0.0, 0.0]\n",
      "LS_misalignment:  [0.0, 0.0, 0.0, 0.0, 0.0, 0.0]\n",
      "LS_misalignment:  [0.0, 0.0, 0.0, 0.0, 0.0, 0.0]\n"
     ]
    }
   ],
   "source": [
    "metiscoronagraphsimulator(1024,3.8, 5., 'RAVC_mis5perc', charge=2, LS_parameters=[0.98, 0.03, 1.1], apodizer_misalignment=[0.05, 0.05, 0.0, 0.0, 0.0, 0.0], NoCoro_psf = fits.getdata('psf_noCoro_nonorm.fits'), Offaxis_psf=fits.getdata('psf_offaxis_nonorm.fits'), ELT_circ=True, Vortex = True, Back=False, RAVC=True, LS=True, Debug=True, Debug_print=False, Norm_max=True)\n"
   ]
  },
  {
   "cell_type": "code",
   "execution_count": 7,
   "metadata": {},
   "outputs": [
    {
     "name": "stdout",
     "output_type": "stream",
     "text": [
      "LS_misalignment:  [0.05, 0.05, 0.0, 0.0, 0.0, 0.0]\n",
      "LS_misalignment:  [0.05, 0.05, 0.0, 0.0, 0.0, 0.0]\n",
      "LS_misalignment:  [0.05, 0.05, 0.0, 0.0, 0.0, 0.0]\n"
     ]
    }
   ],
   "source": [
    "metiscoronagraphsimulator(1024,3.8, 5., 'LS_mis5perc', charge=2, LS_parameters=[0.98, 0.03, 1.1], LS_misalignment=[0.05, 0.05, 0.0, 0.0, 0.0, 0.0], NoCoro_psf = fits.getdata('psf_noCoro_nonorm.fits'), Offaxis_psf=fits.getdata('psf_offaxis_nonorm.fits'), ELT_circ=True, Vortex = True, Back=False, RAVC=True, LS=True, Debug=True, Debug_print=False, Norm_max=True)\n"
   ]
  },
  {
   "cell_type": "code",
   "execution_count": 8,
   "metadata": {},
   "outputs": [
    {
     "name": "stdout",
     "output_type": "stream",
     "text": [
      "LS_misalignment:  [-0.05, -0.05, 0.0, 0.0, 0.0, 0.0]\n",
      "LS_misalignment:  [-0.05, -0.05, 0.0, 0.0, 0.0, 0.0]\n",
      "LS_misalignment:  [-0.05, -0.05, 0.0, 0.0, 0.0, 0.0]\n"
     ]
    }
   ],
   "source": [
    "metiscoronagraphsimulator(1024,3.8, 5., 'LS_mis5percneg', charge=2, LS_parameters=[0.98, 0.03, 1.1], LS_misalignment=[-0.05, -0.05, 0.0, 0.0, 0.0, 0.0], NoCoro_psf = fits.getdata('psf_noCoro_nonorm.fits'), Offaxis_psf=fits.getdata('psf_offaxis_nonorm.fits'), ELT_circ=True, Vortex = True, Back=False, RAVC=True, LS=True, Debug=True, Debug_print=False, Norm_max=True)\n"
   ]
  },
  {
   "cell_type": "code",
   "execution_count": 9,
   "metadata": {},
   "outputs": [
    {
     "name": "stdout",
     "output_type": "stream",
     "text": [
      "LS_misalignment:  [0.0, 0.0, 0.0, 0.0, 0.0, 0.0]\n",
      "LS_misalignment:  [0.0, 0.0, 0.0, 0.0, 0.0, 0.0]\n",
      "LS_misalignment:  [0.0, 0.0, 0.0, 0.0, 0.0, 0.0]\n"
     ]
    }
   ],
   "source": [
    "metiscoronagraphsimulator(1024,3.8, 5., 'piston', charge=2, LS_parameters=[0.98, 0.03, 1.1], Island_Piston= [50e-3, 0.0, 12e-9, 5e-9, 0.0, -2e-9], NoCoro_psf = fits.getdata('psf_noCoro_nonorm.fits'), Offaxis_psf=fits.getdata('psf_offaxis_nonorm.fits'), ELT_circ=True, Vortex = True, Back=False, RAVC=True, LS=True, Island_effect=True, Debug=True, Debug_print=False, Norm_max=True)\n"
   ]
  },
  {
   "cell_type": "code",
   "execution_count": 10,
   "metadata": {},
   "outputs": [
    {
     "ename": "NameError",
     "evalue": "name 'PASSVALUE' is not defined",
     "output_type": "error",
     "traceback": [
      "\u001b[0;31m---------------------------------------------------------------------------\u001b[0m",
      "\u001b[0;31mNameError\u001b[0m                                 Traceback (most recent call last)",
      "\u001b[0;32m<ipython-input-10-7bf30af5ca16>\u001b[0m in \u001b[0;36m<module>\u001b[0;34m()\u001b[0m\n\u001b[0;32m----> 1\u001b[0;31m \u001b[0mmetiscoronagraphsimulator\u001b[0m\u001b[0;34m(\u001b[0m\u001b[0;36m1024\u001b[0m\u001b[0;34m,\u001b[0m\u001b[0;36m3.8\u001b[0m\u001b[0;34m,\u001b[0m \u001b[0;36m5.\u001b[0m\u001b[0;34m,\u001b[0m \u001b[0;34m'atm_screen'\u001b[0m\u001b[0;34m,\u001b[0m \u001b[0mcharge\u001b[0m\u001b[0;34m=\u001b[0m\u001b[0;36m2\u001b[0m\u001b[0;34m,\u001b[0m \u001b[0mLS_parameters\u001b[0m\u001b[0;34m=\u001b[0m\u001b[0;34m[\u001b[0m\u001b[0;36m0.98\u001b[0m\u001b[0;34m,\u001b[0m \u001b[0;36m0.03\u001b[0m\u001b[0;34m,\u001b[0m \u001b[0;36m1.1\u001b[0m\u001b[0;34m]\u001b[0m\u001b[0;34m,\u001b[0m\u001b[0matm_screen\u001b[0m\u001b[0;34m=\u001b[0m\u001b[0mfits\u001b[0m\u001b[0;34m.\u001b[0m\u001b[0mgetdata\u001b[0m\u001b[0;34m(\u001b[0m\u001b[0;34m'metis_370P_35L_HCI_Feb18_rwf8160_cut.fits'\u001b[0m\u001b[0;34m)\u001b[0m\u001b[0;34m,\u001b[0m \u001b[0mNoCoro_psf\u001b[0m \u001b[0;34m=\u001b[0m \u001b[0mfits\u001b[0m\u001b[0;34m.\u001b[0m\u001b[0mgetdata\u001b[0m\u001b[0;34m(\u001b[0m\u001b[0;34m'psf_noCoro_nonorm.fits'\u001b[0m\u001b[0;34m)\u001b[0m\u001b[0;34m,\u001b[0m \u001b[0mOffaxis_psf\u001b[0m\u001b[0;34m=\u001b[0m\u001b[0mfits\u001b[0m\u001b[0;34m.\u001b[0m\u001b[0mgetdata\u001b[0m\u001b[0;34m(\u001b[0m\u001b[0;34m'psf_offaxis_nonorm.fits'\u001b[0m\u001b[0;34m)\u001b[0m\u001b[0;34m,\u001b[0m \u001b[0mELT_circ\u001b[0m\u001b[0;34m=\u001b[0m\u001b[0;32mTrue\u001b[0m\u001b[0;34m,\u001b[0m \u001b[0mVortex\u001b[0m \u001b[0;34m=\u001b[0m \u001b[0;32mTrue\u001b[0m\u001b[0;34m,\u001b[0m \u001b[0mBack\u001b[0m\u001b[0;34m=\u001b[0m\u001b[0;32mFalse\u001b[0m\u001b[0;34m,\u001b[0m \u001b[0mRAVC\u001b[0m\u001b[0;34m=\u001b[0m\u001b[0;32mTrue\u001b[0m\u001b[0;34m,\u001b[0m \u001b[0mLS\u001b[0m\u001b[0;34m=\u001b[0m\u001b[0;32mTrue\u001b[0m\u001b[0;34m,\u001b[0m \u001b[0mATM\u001b[0m\u001b[0;34m=\u001b[0m\u001b[0;32mTrue\u001b[0m\u001b[0;34m,\u001b[0m \u001b[0mIsland_effect\u001b[0m\u001b[0;34m=\u001b[0m\u001b[0;32mTrue\u001b[0m\u001b[0;34m,\u001b[0m \u001b[0mDebug\u001b[0m\u001b[0;34m=\u001b[0m\u001b[0;32mTrue\u001b[0m\u001b[0;34m,\u001b[0m \u001b[0mDebug_print\u001b[0m\u001b[0;34m=\u001b[0m\u001b[0;32mFalse\u001b[0m\u001b[0;34m,\u001b[0m \u001b[0mNorm_max\u001b[0m\u001b[0;34m=\u001b[0m\u001b[0;32mTrue\u001b[0m\u001b[0;34m)\u001b[0m\u001b[0;34m\u001b[0m\u001b[0m\n\u001b[0m",
      "\u001b[0;32m~/Desktop/Simulazioni_PythonProper/MetisCoronagraphSimulator/metiscoronagraphsimulator.py\u001b[0m in \u001b[0;36mmetiscoronagraphsimulator\u001b[0;34m(n, lam, pixelsize, prefix, diam, r_obstr, f_lens, pupil_file, spiders_width, spiders_angle, charge, LS_parameters, amplitude_apodizer_file, phase_apodizer_file, LS_amplitude_apodizer_file, LS_phase_apodizer_file, TILT, atm_screen, missing_segments_number, apodizer_misalignment, LS_misalignment, use_island, Island_Piston, NoCoro_psf, Offaxis_psf, ELT_circ, other_pupil, phase_apodizer, amplitude_apodizer, LS_phase_apodizer, LS_amplitude_apodizer, Vortex, Back, RAVC, LS, ATM, pupil_amplitude_apodizer_misalignment, pupil_phase_apodizer_misalignment, LS_amplitude_apodizer_misalignment, LS_phase_apodizer_misalignment, Island_effect, Debug, Debug_print, Norm_max, Norm_flux1)\u001b[0m\n\u001b[1;32m    174\u001b[0m     \u001b[0;32mif\u001b[0m \u001b[0;34m(\u001b[0m\u001b[0mATM\u001b[0m \u001b[0;34m==\u001b[0m \u001b[0;32mTrue\u001b[0m\u001b[0;34m)\u001b[0m\u001b[0;34m:\u001b[0m\u001b[0;34m\u001b[0m\u001b[0m\n\u001b[1;32m    175\u001b[0m         \u001b[0muse_atm\u001b[0m \u001b[0;34m=\u001b[0m \u001b[0;36m1\u001b[0m\u001b[0;34m\u001b[0m\u001b[0m\n\u001b[0;32m--> 176\u001b[0;31m         \u001b[0matm_screen\u001b[0m \u001b[0;34m=\u001b[0m \u001b[0mPASSVALUE\u001b[0m\u001b[0;34m[\u001b[0m\u001b[0;34m'atm_screen'\u001b[0m\u001b[0;34m]\u001b[0m\u001b[0;34m\u001b[0m\u001b[0m\n\u001b[0m\u001b[1;32m    177\u001b[0m     \u001b[0;32melse\u001b[0m\u001b[0;34m:\u001b[0m\u001b[0;34m\u001b[0m\u001b[0m\n\u001b[1;32m    178\u001b[0m         \u001b[0muse_atm\u001b[0m \u001b[0;34m=\u001b[0m \u001b[0;36m0\u001b[0m\u001b[0;34m\u001b[0m\u001b[0m\n",
      "\u001b[0;31mNameError\u001b[0m: name 'PASSVALUE' is not defined"
     ]
    }
   ],
   "source": [
    "metiscoronagraphsimulator(1024,3.8, 5., 'atmscreen', charge=2, LS_parameters=[0.98, 0.03, 1.1], atm_screen = fits.getdata('metis_370P_35L_HCI_Feb18_rwf8160_cut.fits'), NoCoro_psf = fits.getdata('psf_noCoro_nonorm.fits'), Offaxis_psf=fits.getdata('psf_offaxis_nonorm.fits'), ELT_circ=True, Vortex = True, Back=False, RAVC=True, LS=True, ATM=True, Island_effect=True, Debug=True, Debug_print=False, Norm_max=True)\n"
   ]
  },
  {
   "cell_type": "code",
   "execution_count": null,
   "metadata": {},
   "outputs": [],
   "source": []
  }
 ],
 "metadata": {
  "kernelspec": {
   "display_name": "Python 3",
   "language": "python",
   "name": "python3"
  },
  "language_info": {
   "codemirror_mode": {
    "name": "ipython",
    "version": 3
   },
   "file_extension": ".py",
   "mimetype": "text/x-python",
   "name": "python",
   "nbconvert_exporter": "python",
   "pygments_lexer": "ipython3",
   "version": "3.6.4"
  }
 },
 "nbformat": 4,
 "nbformat_minor": 2
}
